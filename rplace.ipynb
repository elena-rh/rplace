{
 "cells": [
  {
   "cell_type": "markdown",
   "id": "3e58de42-cd2c-4bf4-aeb6-9af08d1591fb",
   "metadata": {},
   "source": [
    "# r/place2022 dataset analysis\n",
    "\n",
    "r/place is an interactive project ran by Reddit for April Fools in 2017 and 2022.\n",
    "It consists of a board of pixels that users can individually select and change the color of.\n",
    "\n",
    "The 2017 board was 1000x1000 pixels and stayed open for 3 days.\n",
    "The 2022 board started as 1000x1000 and had 2 expansions (to 1000x2000, then 2000x2000) and stayed open for 4 days.\n",
    "\n",
    "[link to r/place timelapse](https://youtu.be/K5O3UgLG2Jw)\n",
    "\n",
    "The [2022 official dataset](https://www.kaggle.com/datasets/antoinecarpentier/redditrplacecsv) explored in this notebook is a single file of 20.2 GiB "
   ]
  },
  {
   "cell_type": "markdown",
   "id": "d2a98ace-de97-492c-ae8f-d906071e1502",
   "metadata": {
    "tags": []
   },
   "source": [
    "The cluster setup used for this project defines two worker nodes that have:\n",
    "- 4 cores each\n",
    "- 16 GB of memory each\n",
    "\n",
    "The configuration below reserves the following resources for the Spark application:\n",
    "- 3 cores per executor, leaving 1 for running cluster manager daemons and the AMP\n",
    "- 8 GB of memory per executor (YARN limitation)\n",
    "\n",
    "Spark is also set to use the Kryo library for data serialization: Kryo serialization is faster and more compact than the default Java serialization."
   ]
  },
  {
   "cell_type": "code",
   "execution_count": 1,
   "id": "207685e7-b4aa-4c24-9134-0de0f35bd12b",
   "metadata": {
    "execution": {
     "iopub.execute_input": "2022-11-04T09:37:55.817589Z",
     "iopub.status.busy": "2022-11-04T09:37:55.817348Z",
     "iopub.status.idle": "2022-11-04T09:37:56.370459Z",
     "shell.execute_reply": "2022-11-04T09:37:56.369619Z",
     "shell.execute_reply.started": "2022-11-04T09:37:55.817565Z"
    },
    "tags": []
   },
   "outputs": [
    {
     "data": {
      "text/html": [
       "Current session configs: <tt>{'executorMemory': '8G', 'numExecutors': 2, 'executorCores': 3, 'conf': {'spark.dynamicAllocation.enabled': 'false', 'spark.serializer': 'org.apache.spark.serializer.KryoSerializer'}, 'proxyUser': 'assumed-role_voclabs_user1847202_elena_rughi2_studio_unibo_it', 'kind': 'spark'}</tt><br>"
      ],
      "text/plain": [
       "<IPython.core.display.HTML object>"
      ]
     },
     "metadata": {},
     "output_type": "display_data"
    },
    {
     "data": {
      "text/html": [
       "No active sessions."
      ],
      "text/plain": [
       "<IPython.core.display.HTML object>"
      ]
     },
     "metadata": {},
     "output_type": "display_data"
    }
   ],
   "source": [
    "%%configure -f\n",
    "{\"executorMemory\":\"8G\", \"numExecutors\":2, \"executorCores\":3, \n",
    " \"conf\": {\"spark.dynamicAllocation.enabled\": \"false\", \n",
    "          \"spark.serializer\": \"org.apache.spark.serializer.KryoSerializer\"}}"
   ]
  },
  {
   "cell_type": "code",
   "execution_count": 2,
   "id": "ac102e54-9cb4-4402-bb65-3c6a1f91bb65",
   "metadata": {
    "execution": {
     "iopub.execute_input": "2022-11-04T09:37:58.251514Z",
     "iopub.status.busy": "2022-11-04T09:37:58.251252Z",
     "iopub.status.idle": "2022-11-04T09:39:03.352524Z",
     "shell.execute_reply": "2022-11-04T09:39:03.351803Z",
     "shell.execute_reply.started": "2022-11-04T09:37:58.251487Z"
    },
    "tags": []
   },
   "outputs": [
    {
     "data": {
      "application/vnd.jupyter.widget-view+json": {
       "model_id": "0355b9d837ba47879edb3308c36cfeb0",
       "version_major": 2,
       "version_minor": 0
      },
      "text/plain": [
       "VBox()"
      ]
     },
     "metadata": {},
     "output_type": "display_data"
    },
    {
     "name": "stdout",
     "output_type": "stream",
     "text": [
      "Starting Spark application\n"
     ]
    },
    {
     "data": {
      "text/html": [
       "<table>\n",
       "<tr><th>ID</th><th>YARN Application ID</th><th>Kind</th><th>State</th><th>Spark UI</th><th>Driver log</th><th>User</th><th>Current session?</th></tr><tr><td>0</td><td>application_1667554385214_0001</td><td>spark</td><td>idle</td><td><a target=\"_blank\" href=\"http://ip-172-31-36-253.ec2.internal:20888/proxy/application_1667554385214_0001/\" class=\"emr-proxy-link\" emr-resource=\"j-1CFEWLP20ANC6\n",
       "\" application-id=\"application_1667554385214_0001\">Link</a></td><td><a target=\"_blank\" href=\"http://ip-172-31-39-203.ec2.internal:8042/node/containerlogs/container_1667554385214_0001_01_000001/livy\" >Link</a></td><td>None</td><td>✔</td></tr></table>"
      ],
      "text/plain": [
       "<IPython.core.display.HTML object>"
      ]
     },
     "metadata": {},
     "output_type": "display_data"
    },
    {
     "data": {
      "application/vnd.jupyter.widget-view+json": {
       "model_id": "",
       "version_major": 2,
       "version_minor": 0
      },
      "text/plain": [
       "FloatProgress(value=0.0, bar_style='info', description='Progress:', layout=Layout(height='25px', width='50%'),…"
      ]
     },
     "metadata": {},
     "output_type": "display_data"
    },
    {
     "name": "stdout",
     "output_type": "stream",
     "text": [
      "SparkSession available as 'spark'.\n"
     ]
    },
    {
     "data": {
      "application/vnd.jupyter.widget-view+json": {
       "model_id": "",
       "version_major": 2,
       "version_minor": 0
      },
      "text/plain": [
       "FloatProgress(value=0.0, bar_style='info', description='Progress:', layout=Layout(height='25px', width='50%'),…"
      ]
     },
     "metadata": {},
     "output_type": "display_data"
    },
    {
     "name": "stdout",
     "output_type": "stream",
     "text": [
      "bucketname: String = unibo-bd2122-erughi\n",
      "path_rplace: String = s3a://unibo-bd2122-erughi/datasets/2022_place_canvas_history.csv\n",
      "res2: String = SPARK UI: Enable forwarding of port 20888 and connect to http://localhost:20888/proxy/application_1667554385214_0001/\n"
     ]
    }
   ],
   "source": [
    "val bucketname = \"unibo-bd2122-erughi\"\n",
    "val path_rplace = \"s3a://\"+bucketname+\"/datasets/2022_place_canvas_history.csv\"\n",
    "\n",
    "\"SPARK UI: Enable forwarding of port 20888 and connect to http://localhost:20888/proxy/\" + sc.applicationId + \"/\""
   ]
  },
  {
   "cell_type": "code",
   "execution_count": 3,
   "id": "e2e83804-26ce-4b16-9c26-462f66d5fffb",
   "metadata": {
    "execution": {
     "iopub.execute_input": "2022-11-04T09:39:03.356764Z",
     "iopub.status.busy": "2022-11-04T09:39:03.353961Z",
     "iopub.status.idle": "2022-11-04T09:39:03.415226Z",
     "shell.execute_reply": "2022-11-04T09:39:03.414451Z",
     "shell.execute_reply.started": "2022-11-04T09:39:03.356704Z"
    },
    "tags": []
   },
   "outputs": [
    {
     "data": {
      "text/html": [
       "Current session configs: <tt>{'executorMemory': '8G', 'numExecutors': 2, 'executorCores': 3, 'conf': {'spark.dynamicAllocation.enabled': 'false', 'spark.serializer': 'org.apache.spark.serializer.KryoSerializer'}, 'proxyUser': 'assumed-role_voclabs_user1847202_elena_rughi2_studio_unibo_it', 'kind': 'spark'}</tt><br>"
      ],
      "text/plain": [
       "<IPython.core.display.HTML object>"
      ]
     },
     "metadata": {},
     "output_type": "display_data"
    },
    {
     "data": {
      "text/html": [
       "<table>\n",
       "<tr><th>ID</th><th>YARN Application ID</th><th>Kind</th><th>State</th><th>Spark UI</th><th>Driver log</th><th>User</th><th>Current session?</th></tr><tr><td>0</td><td>application_1667554385214_0001</td><td>spark</td><td>idle</td><td><a target=\"_blank\" href=\"http://ip-172-31-36-253.ec2.internal:20888/proxy/application_1667554385214_0001/\" class=\"emr-proxy-link\" emr-resource=\"j-1CFEWLP20ANC6\n",
       "\" application-id=\"application_1667554385214_0001\">Link</a></td><td><a target=\"_blank\" href=\"http://ip-172-31-39-203.ec2.internal:8042/node/containerlogs/container_1667554385214_0001_01_000001/livy\" >Link</a></td><td>None</td><td>✔</td></tr></table>"
      ],
      "text/plain": [
       "<IPython.core.display.HTML object>"
      ]
     },
     "metadata": {},
     "output_type": "display_data"
    }
   ],
   "source": [
    "%%info"
   ]
  },
  {
   "cell_type": "code",
   "execution_count": 4,
   "id": "7f62dee5-044e-4df8-a9a5-152acac0e614",
   "metadata": {
    "execution": {
     "iopub.execute_input": "2022-11-04T09:39:03.417304Z",
     "iopub.status.busy": "2022-11-04T09:39:03.416875Z",
     "iopub.status.idle": "2022-11-04T09:39:05.737104Z",
     "shell.execute_reply": "2022-11-04T09:39:05.736346Z",
     "shell.execute_reply.started": "2022-11-04T09:39:03.417265Z"
    },
    "tags": []
   },
   "outputs": [
    {
     "data": {
      "application/vnd.jupyter.widget-view+json": {
       "model_id": "560c698543f945b5bb11249c0e3db1ea",
       "version_major": 2,
       "version_minor": 0
      },
      "text/plain": [
       "VBox()"
      ]
     },
     "metadata": {},
     "output_type": "display_data"
    },
    {
     "data": {
      "application/vnd.jupyter.widget-view+json": {
       "model_id": "",
       "version_major": 2,
       "version_minor": 0
      },
      "text/plain": [
       "FloatProgress(value=0.0, bar_style='info', description='Progress:', layout=Layout(height='25px', width='50%'),…"
      ]
     },
     "metadata": {},
     "output_type": "display_data"
    },
    {
     "name": "stdout",
     "output_type": "stream",
     "text": [
      "import org.apache.spark.HashPartitioner\n",
      "import org.apache.spark.sql.SaveMode\n",
      "import org.apache.spark.storage.StorageLevel\n",
      "import java.time._\n",
      "import java.time.format._\n",
      "import java.time.temporal.ChronoField\n",
      "import scala.math._\n"
     ]
    }
   ],
   "source": [
    "import org.apache.spark.HashPartitioner\n",
    "import org.apache.spark.sql.SaveMode\n",
    "import org.apache.spark.storage.StorageLevel\n",
    "import java.time._\n",
    "import java.time.format._\n",
    "import java.time.temporal.ChronoField\n",
    "import scala.math._"
   ]
  },
  {
   "cell_type": "markdown",
   "id": "e44b270c-ad25-48d1-b903-f57b09a56378",
   "metadata": {},
   "source": [
    "## Tile Placement Data\n",
    "\n",
    "The data is available as a CSV file with the following format:\n",
    "\n",
    "**timestamp, userid, pixelcolor, coordinate**\n",
    "\n",
    "- Timestamp - the UTC time of the tile placement\n",
    "- Userid - a hashed identifier for each user placing the tile. These are not reddit userids, but instead a hashed identifier to allow correlating tiles placed by the same user.\n",
    "- Pixel_color - the hex color code of the tile placed\n",
    "- Coordinate - the “x,y” coordinate of the tile placement. 0,0 is the top left corner. 1999,0 is the top right corner. 0,1999 is the bottom left corner of the fully expanded canvas. 1999,1999 is the bottom right corner of the fully expanded canvas.\n",
    "\n",
    "example row:<br>\n",
    "2022-04-03 17:38:22.252 UTC,yTrYCd4LUpBn4rIyNXkkW2+Fac5cQHK2lsDpNghkq0oPu9o//8oPZPlLM4CXQeEIId7l011MbHcAaLyqfhSRoA==,#FF3881,\"0,0\"\n",
    "\n",
    "\n",
    "## Parsing of the tiles\n",
    "\n",
    "- timestamp, user_id and pixel_color - String\n",
    "- coordinates - a tuple (x,y) and an optional tuple (x2,y2) for admin placements; (x2,y2) is the second point of the rectangle"
   ]
  },
  {
   "cell_type": "code",
   "execution_count": 5,
   "id": "cca64ab4-3e91-4c1b-9e4c-1db09613c5d7",
   "metadata": {
    "execution": {
     "iopub.execute_input": "2022-11-04T09:39:05.738306Z",
     "iopub.status.busy": "2022-11-04T09:39:05.738036Z",
     "iopub.status.idle": "2022-11-04T09:39:07.052520Z",
     "shell.execute_reply": "2022-11-04T09:39:07.051807Z",
     "shell.execute_reply.started": "2022-11-04T09:39:05.738279Z"
    },
    "tags": []
   },
   "outputs": [
    {
     "data": {
      "application/vnd.jupyter.widget-view+json": {
       "model_id": "20e121637f7142f49c7fd132578ccf05",
       "version_major": 2,
       "version_minor": 0
      },
      "text/plain": [
       "VBox()"
      ]
     },
     "metadata": {},
     "output_type": "display_data"
    },
    {
     "data": {
      "application/vnd.jupyter.widget-view+json": {
       "model_id": "",
       "version_major": 2,
       "version_minor": 0
      },
      "text/plain": [
       "FloatProgress(value=0.0, bar_style='info', description='Progress:', layout=Layout(height='25px', width='50%'),…"
      ]
     },
     "metadata": {},
     "output_type": "display_data"
    },
    {
     "name": "stdout",
     "output_type": "stream",
     "text": [
      "defined object Tile\n"
     ]
    }
   ],
   "source": [
    "// Tile(timestamp, user_id, pixel_color, (x,y))\n",
    "object Tile {\n",
    "  val commaRegex = \",(?=(?:[^\\\"]*\\\"[^\\\"]*\\\")*[^\\\"]*$)\"\n",
    "  def extract(row:String) : Option[(String, String, String, (Int, Int))] = {    \n",
    "    val columns = row.split(commaRegex)\n",
    "    columns(3).replaceAll(\"\\\"\",\"\").split(\",\") match {\n",
    "      case Array(x, y) => Some(columns(0),columns(1),columns(2),(x.toInt,y.toInt))\n",
    "      case Array(x1,y1,x2,y2) => None // do not add admin placed tiles to rdd\n",
    "      case _ => None\n",
    "    }\n",
    "  }\n",
    "}"
   ]
  },
  {
   "cell_type": "code",
   "execution_count": 6,
   "id": "fc93c0ef-64c1-4899-b3b3-69098f5f8376",
   "metadata": {
    "execution": {
     "iopub.execute_input": "2022-11-04T09:39:07.054002Z",
     "iopub.status.busy": "2022-11-04T09:39:07.053731Z",
     "iopub.status.idle": "2022-11-04T09:39:09.381980Z",
     "shell.execute_reply": "2022-11-04T09:39:09.381155Z",
     "shell.execute_reply.started": "2022-11-04T09:39:07.053965Z"
    },
    "tags": []
   },
   "outputs": [
    {
     "data": {
      "application/vnd.jupyter.widget-view+json": {
       "model_id": "47907108b5a148bd8ed325e09012f8c1",
       "version_major": 2,
       "version_minor": 0
      },
      "text/plain": [
       "VBox()"
      ]
     },
     "metadata": {},
     "output_type": "display_data"
    },
    {
     "data": {
      "application/vnd.jupyter.widget-view+json": {
       "model_id": "",
       "version_major": 2,
       "version_minor": 0
      },
      "text/plain": [
       "FloatProgress(value=0.0, bar_style='info', description='Progress:', layout=Layout(height='25px', width='50%'),…"
      ]
     },
     "metadata": {},
     "output_type": "display_data"
    },
    {
     "name": "stdout",
     "output_type": "stream",
     "text": [
      "rdd: org.apache.spark.rdd.RDD[(String, String, String, (Int, Int))] = MapPartitionsRDD[3] at flatMap at <console>:40\n"
     ]
    }
   ],
   "source": [
    "val rdd = sc.textFile(path_rplace).\n",
    "                mapPartitionsWithIndex((i, iterator) => if (i == 0) iterator.drop(1) else iterator). // remove header (1st row)\n",
    "                flatMap(Tile.extract)"
   ]
  },
  {
   "cell_type": "markdown",
   "id": "6b334784-3283-4a98-97ab-fb466fd9ee79",
   "metadata": {},
   "source": [
    "## Dataset exploration\n",
    "\n",
    "- number of pixels placed : 160'353'085\n",
    "\n",
    "---------------------------------------\n",
    "\n",
    "- timestamp of first expansion  : 2022-04-02 16:24:56.239 UTC (coord (1007,491))\n",
    "- timestamp of second expansion : 2022-04-03 19:03:53.356 UTC (coord (1338,1267))\n",
    "\n",
    "---------------------------------------\n",
    "- first timestamp : 2022-04-01 12:44:10.315 UTC\n",
    "- last timestamp  : 2022-04-05 00:14:00.207 UTC\n",
    "- experiment runtime : 83 hours\n",
    "\n",
    "---------------------------------------\n",
    "\n",
    "- most used colors in each phase\n",
    "    - before 1st expansion -> 16 colors\n",
    "    - after 1st expansion -> 24 colors\n",
    "    - after 2nd expansion -> 32 colors\n",
    "\n",
    "---------------------------------------\n",
    "\n",
    "- number of unique users : 10'381'144\n",
    "- most active users \n",
    "    - most pixels placed by a user: 795 = min 66.25 hrs of placing\n"
   ]
  },
  {
   "cell_type": "code",
   "execution_count": 18,
   "id": "d26f3396-7bcd-4241-af2f-5ae315fbaa91",
   "metadata": {
    "execution": {
     "iopub.execute_input": "2022-11-04T10:47:19.840893Z",
     "iopub.status.busy": "2022-11-04T10:47:19.840656Z",
     "iopub.status.idle": "2022-11-04T10:51:39.961151Z",
     "shell.execute_reply": "2022-11-04T10:51:39.960271Z",
     "shell.execute_reply.started": "2022-11-04T10:47:19.840869Z"
    },
    "tags": []
   },
   "outputs": [
    {
     "data": {
      "application/vnd.jupyter.widget-view+json": {
       "model_id": "42345e0865c34e789f5448db1729fe84",
       "version_major": 2,
       "version_minor": 0
      },
      "text/plain": [
       "VBox()"
      ]
     },
     "metadata": {},
     "output_type": "display_data"
    },
    {
     "data": {
      "application/vnd.jupyter.widget-view+json": {
       "model_id": "",
       "version_major": 2,
       "version_minor": 0
      },
      "text/plain": [
       "FloatProgress(value=0.0, bar_style='info', description='Progress:', layout=Layout(height='25px', width='50%'),…"
      ]
     },
     "metadata": {},
     "output_type": "display_data"
    },
    {
     "name": "stdout",
     "output_type": "stream",
     "text": [
      "orderedTimesRdd: org.apache.spark.rdd.RDD[((Int, Int), String)] = MapPartitionsRDD[61] at sortBy at <console>:37\n"
     ]
    }
   ],
   "source": [
    "val orderedTimesRdd = rdd.map({case(timestamp, _, _, coords) => (coords, timestamp)}).\n",
    "    sortBy(x => x._2, true, 96).\n",
    "    persist(StorageLevel.MEMORY_AND_DISK_SER) // 5.9GiB"
   ]
  },
  {
   "cell_type": "code",
   "execution_count": 19,
   "id": "eaaeb45d-b1c4-458c-a08b-f0a55e7eb18f",
   "metadata": {
    "execution": {
     "iopub.execute_input": "2022-11-04T10:51:39.963271Z",
     "iopub.status.busy": "2022-11-04T10:51:39.962755Z",
     "iopub.status.idle": "2022-11-04T10:59:10.645088Z",
     "shell.execute_reply": "2022-11-04T10:59:10.644329Z",
     "shell.execute_reply.started": "2022-11-04T10:51:39.963233Z"
    },
    "tags": []
   },
   "outputs": [
    {
     "data": {
      "application/vnd.jupyter.widget-view+json": {
       "model_id": "94bf51810ea342bdb9e0df1c0b390df2",
       "version_major": 2,
       "version_minor": 0
      },
      "text/plain": [
       "VBox()"
      ]
     },
     "metadata": {},
     "output_type": "display_data"
    },
    {
     "data": {
      "application/vnd.jupyter.widget-view+json": {
       "model_id": "",
       "version_major": 2,
       "version_minor": 0
      },
      "text/plain": [
       "FloatProgress(value=0.0, bar_style='info', description='Progress:', layout=Layout(height='25px', width='50%'),…"
      ]
     },
     "metadata": {},
     "output_type": "display_data"
    },
    {
     "name": "stdout",
     "output_type": "stream",
     "text": [
      "nPixels: Long = 160353085\n"
     ]
    }
   ],
   "source": [
    "// number of pixels placed\n",
    "val nPixels = orderedTimesRdd.count()"
   ]
  },
  {
   "cell_type": "code",
   "execution_count": 20,
   "id": "5280c698-ac7b-4a6c-aa65-a3accbb1c881",
   "metadata": {
    "execution": {
     "iopub.execute_input": "2022-11-04T10:59:10.646538Z",
     "iopub.status.busy": "2022-11-04T10:59:10.646364Z",
     "iopub.status.idle": "2022-11-04T10:59:21.958291Z",
     "shell.execute_reply": "2022-11-04T10:59:21.957621Z",
     "shell.execute_reply.started": "2022-11-04T10:59:10.646516Z"
    },
    "tags": []
   },
   "outputs": [
    {
     "data": {
      "application/vnd.jupyter.widget-view+json": {
       "model_id": "abb2d450ddec4b99be8705928742d365",
       "version_major": 2,
       "version_minor": 0
      },
      "text/plain": [
       "VBox()"
      ]
     },
     "metadata": {},
     "output_type": "display_data"
    },
    {
     "data": {
      "application/vnd.jupyter.widget-view+json": {
       "model_id": "",
       "version_major": 2,
       "version_minor": 0
      },
      "text/plain": [
       "FloatProgress(value=0.0, bar_style='info', description='Progress:', layout=Layout(height='25px', width='50%'),…"
      ]
     },
     "metadata": {},
     "output_type": "display_data"
    },
    {
     "name": "stdout",
     "output_type": "stream",
     "text": [
      "firstExpansionTime: ((Int, Int), String) = ((1007,491),2022-04-02 16:24:56.239 UTC)\n",
      "secondExpansionTime: ((Int, Int), String) = ((1338,1267),2022-04-03 19:03:53.356 UTC)\n"
     ]
    }
   ],
   "source": [
    "val firstExpansionTime = orderedTimesRdd.filter(_._1._1 > 999).first()   // x > 999\n",
    "val secondExpansionTime = orderedTimesRdd.filter(_._1._2 > 999).first()  // y > 999"
   ]
  },
  {
   "cell_type": "code",
   "execution_count": 21,
   "id": "c05e3af2-4120-4b4a-8089-11abf2bfa28b",
   "metadata": {
    "execution": {
     "iopub.execute_input": "2022-11-04T10:59:21.959624Z",
     "iopub.status.busy": "2022-11-04T10:59:21.959428Z",
     "iopub.status.idle": "2022-11-04T10:59:53.333584Z",
     "shell.execute_reply": "2022-11-04T10:59:53.332837Z",
     "shell.execute_reply.started": "2022-11-04T10:59:21.959601Z"
    },
    "tags": []
   },
   "outputs": [
    {
     "data": {
      "application/vnd.jupyter.widget-view+json": {
       "model_id": "315aa0a7b98e4796bb76a12c56f519d0",
       "version_major": 2,
       "version_minor": 0
      },
      "text/plain": [
       "VBox()"
      ]
     },
     "metadata": {},
     "output_type": "display_data"
    },
    {
     "data": {
      "application/vnd.jupyter.widget-view+json": {
       "model_id": "",
       "version_major": 2,
       "version_minor": 0
      },
      "text/plain": [
       "FloatProgress(value=0.0, bar_style='info', description='Progress:', layout=Layout(height='25px', width='50%'),…"
      ]
     },
     "metadata": {},
     "output_type": "display_data"
    },
    {
     "name": "stdout",
     "output_type": "stream",
     "text": [
      "f: java.time.format.DateTimeFormatter = Value(YearOfEra,4,19,EXCEEDS_PAD)'-'Value(MonthOfYear,2)'-'Value(DayOfMonth,2)' 'Value(HourOfDay,2)':'Value(MinuteOfHour,2)':'Value(SecondOfMinute,2)Fraction(MicroOfSecond,0,3,DecimalPoint)' 'ZoneText(SHORT)\n",
      "firstTime: String = 2022-04-01 12:44:10.315 UTC\n",
      "lastTime: String = 2022-04-05 00:14:00.207 UTC\n",
      "totTime: Long = 83\n"
     ]
    }
   ],
   "source": [
    "val f = new DateTimeFormatterBuilder().\n",
    "    appendPattern(\"yyyy-MM-dd HH:mm:ss\").\n",
    "    appendFraction(ChronoField.MICRO_OF_SECOND, 0, 3, true).\n",
    "    appendPattern(\" zzz\").\n",
    "    toFormatter()\n",
    "\n",
    "val firstTime = orderedTimesRdd.map({case(_, timestamp) => (timestamp)}).min()\n",
    "val lastTime = orderedTimesRdd.map({case(_, timestamp) => (timestamp)}).max()\n",
    "val totTime = Duration.between(LocalDateTime.parse(firstTime, f), LocalDateTime.parse(lastTime, f)).toHours"
   ]
  },
  {
   "cell_type": "code",
   "execution_count": 22,
   "id": "178d1053-f08d-4f11-bb64-94ab6035f77a",
   "metadata": {
    "execution": {
     "iopub.execute_input": "2022-11-04T10:59:53.334988Z",
     "iopub.status.busy": "2022-11-04T10:59:53.334737Z",
     "iopub.status.idle": "2022-11-04T10:59:54.098581Z",
     "shell.execute_reply": "2022-11-04T10:59:54.097987Z",
     "shell.execute_reply.started": "2022-11-04T10:59:53.334952Z"
    },
    "tags": []
   },
   "outputs": [
    {
     "data": {
      "application/vnd.jupyter.widget-view+json": {
       "model_id": "af8c38e813de43949d2eb78f629cc5fb",
       "version_major": 2,
       "version_minor": 0
      },
      "text/plain": [
       "VBox()"
      ]
     },
     "metadata": {},
     "output_type": "display_data"
    },
    {
     "data": {
      "application/vnd.jupyter.widget-view+json": {
       "model_id": "",
       "version_major": 2,
       "version_minor": 0
      },
      "text/plain": [
       "FloatProgress(value=0.0, bar_style='info', description='Progress:', layout=Layout(height='25px', width='50%'),…"
      ]
     },
     "metadata": {},
     "output_type": "display_data"
    },
    {
     "name": "stdout",
     "output_type": "stream",
     "text": [
      "res35: orderedTimesRdd.type = MapPartitionsRDD[61] at sortBy at <console>:37\n"
     ]
    }
   ],
   "source": [
    "orderedTimesRdd.unpersist()"
   ]
  },
  {
   "cell_type": "code",
   "execution_count": 23,
   "id": "9e50208e-6f88-48eb-8030-e7cf19f5cc26",
   "metadata": {
    "execution": {
     "iopub.execute_input": "2022-11-04T10:59:54.099663Z",
     "iopub.status.busy": "2022-11-04T10:59:54.099491Z",
     "iopub.status.idle": "2022-11-04T11:13:07.896198Z",
     "shell.execute_reply": "2022-11-04T11:13:07.895394Z",
     "shell.execute_reply.started": "2022-11-04T10:59:54.099641Z"
    },
    "tags": []
   },
   "outputs": [
    {
     "data": {
      "application/vnd.jupyter.widget-view+json": {
       "model_id": "1578bc23e7b14ae198ec5b9c45a73c9c",
       "version_major": 2,
       "version_minor": 0
      },
      "text/plain": [
       "VBox()"
      ]
     },
     "metadata": {},
     "output_type": "display_data"
    },
    {
     "data": {
      "application/vnd.jupyter.widget-view+json": {
       "model_id": "",
       "version_major": 2,
       "version_minor": 0
      },
      "text/plain": [
       "FloatProgress(value=0.0, bar_style='info', description='Progress:', layout=Layout(height='25px', width='50%'),…"
      ]
     },
     "metadata": {},
     "output_type": "display_data"
    }
   ],
   "source": [
    "// most used colors\n",
    "\n",
    "// before 1st expansion (16 colors)\n",
    "rdd.\n",
    "  map({case(timestamp, _, color, _) => (color, timestamp)}).\n",
    "  filter(_._2 < firstExpansionTime._2).\n",
    "  aggregateByKey(0, 1)((acc, v) => acc+1, (acc1, acc2) => acc1+acc2).\n",
    "  toDF(\"color\", \"nPixels\").write.option(\"header\", true).format(\"csv\").mode(SaveMode.Overwrite).\n",
    "  save(\"s3a://\"+bucketname+\"/spark/rplace/colors0\")\n",
    "\n",
    "// after 1st expansion (24 colors)\n",
    "rdd.\n",
    "  map({case(timestamp, _, color, _) => (color, timestamp)}).\n",
    "  filter(x => (x._2 >= firstExpansionTime._2) && (x._2 < secondExpansionTime._2)).\n",
    "  aggregateByKey(0, 1)((acc, v) => acc+1, (acc1, acc2) => acc1+acc2).\n",
    "  toDF(\"color\", \"nPixels\").write.option(\"header\", true).format(\"csv\").mode(SaveMode.Overwrite).\n",
    "  save(\"s3a://\"+bucketname+\"/spark/rplace/colors1\")\n",
    "\n",
    "// after 2nd expansion (32 colors)\n",
    "rdd.\n",
    "  map({case(timestamp, _, color, _) => (color, timestamp)}).\n",
    "  filter(_._2 >= secondExpansionTime._2).\n",
    "  aggregateByKey(0, 1)((acc, v) => acc+1, (acc1, acc2) => acc1+acc2).\n",
    "  toDF(\"color\", \"nPixels\").write.option(\"header\", true).format(\"csv\").mode(SaveMode.Overwrite).\n",
    "  save(\"s3a://\"+bucketname+\"/spark/rplace/colors2\")"
   ]
  },
  {
   "attachments": {
    "530729bb-090f-4a76-bd2d-6b9ea3d43cb3.png": {
     "image/png": "[encoded data removed]"
    },
    "7ed13f27-1524-4d0e-8608-712a95e35de3.png": {
     "image/png": "[encoded data removed]"
    },
    "fa4a64c2-75f0-4d5a-a792-476786384af6.png": {
     "image/png": "[encoded data removed]"
    }
   },
   "cell_type": "markdown",
   "id": "7399a1bf-41e8-44d1-9e5b-7cc3c0ac8988",
   "metadata": {},
   "source": [
    "### Most used colors\n",
    "\n",
    "![colors0.png](attachment:7ed13f27-1524-4d0e-8608-712a95e35de3.png)\n",
    "\n",
    "![colors1.png](attachment:530729bb-090f-4a76-bd2d-6b9ea3d43cb3.png)\n",
    "\n",
    "![colors2.png](attachment:fa4a64c2-75f0-4d5a-a792-476786384af6.png)\n",
    "\n",
    "Observations:\n",
    "- black is the most used color because it was used for outlines, backgrounds and, mainly, griefing\n",
    "- in the last expansion white is most used because the experiment ended with white being the only available color\n",
    "- red (summed to dark red in last expansion) always maintained a significant lead on the other colors\n",
    "- notice that blue and yellow remained at 4th and 5th place throughout, probably because of the ukrainian flags (although blue and yellow are also present in many other flags, and flags dominated the board)"
   ]
  },
  {
   "cell_type": "markdown",
   "id": "a58393e6-d2f8-46b4-95dc-4eeb30588625",
   "metadata": {},
   "source": [
    "### Number of pixels placed each hour"
   ]
  },
  {
   "cell_type": "code",
   "execution_count": 24,
   "id": "020b2b73-0e77-485c-8454-738490168d81",
   "metadata": {
    "execution": {
     "iopub.execute_input": "2022-11-04T11:13:07.897300Z",
     "iopub.status.busy": "2022-11-04T11:13:07.897125Z",
     "iopub.status.idle": "2022-11-04T11:18:42.189825Z",
     "shell.execute_reply": "2022-11-04T11:18:42.189132Z",
     "shell.execute_reply.started": "2022-11-04T11:13:07.897278Z"
    },
    "tags": []
   },
   "outputs": [
    {
     "data": {
      "application/vnd.jupyter.widget-view+json": {
       "model_id": "a9da7587b3e445b5a669e25e503a51c1",
       "version_major": 2,
       "version_minor": 0
      },
      "text/plain": [
       "VBox()"
      ]
     },
     "metadata": {},
     "output_type": "display_data"
    },
    {
     "data": {
      "application/vnd.jupyter.widget-view+json": {
       "model_id": "",
       "version_major": 2,
       "version_minor": 0
      },
      "text/plain": [
       "FloatProgress(value=0.0, bar_style='info', description='Progress:', layout=Layout(height='25px', width='50%'),…"
      ]
     },
     "metadata": {},
     "output_type": "display_data"
    },
    {
     "name": "stdout",
     "output_type": "stream",
     "text": [
      "extractDayHour: (timestamp: String)String\n"
     ]
    }
   ],
   "source": [
    "//time chunks\n",
    "\n",
    "// returns dd-HH from \"yyyy-MM-dd HH:mm:ss\" timestamp\n",
    "def extractDayHour(timestamp:String): String = {\n",
    "    val f = new DateTimeFormatterBuilder().\n",
    "    appendPattern(\"yyyy-MM-dd HH:mm:ss\").\n",
    "    appendFraction(ChronoField.MICRO_OF_SECOND, 0, 3, true).\n",
    "    appendPattern(\" zzz\").\n",
    "    toFormatter()\n",
    "    val dateTime = LocalDateTime.parse(timestamp, f)\n",
    "    if (dateTime.getHour() < 10) dateTime.getDayOfMonth() + \"-0\" + dateTime.getHour()\n",
    "    else dateTime.getDayOfMonth() + \"-\" + dateTime.getHour()\n",
    "}\n",
    "\n",
    "// number of pixels updated every hour\n",
    "rdd.map(x => (extractDayHour(x._1), 1)).\n",
    "    reduceByKey((_+_), 12).\n",
    "    sortBy(x => x._1, true, 1). // 1 partition to write to 1 file\n",
    "    toDF(\"dd-HH\", \"nPixels\").write.option(\"header\", true).format(\"csv\").mode(SaveMode.Overwrite).\n",
    "    save(\"s3a://\"+bucketname+\"/spark/rplace/activityPerHour\")"
   ]
  },
  {
   "attachments": {
    "a7b21d4d-8799-43be-bbee-5788a6abe384.png": {
     "image/png": "[encoded data removed]"
    }
   },
   "cell_type": "markdown",
   "id": "c2ed1435-6325-4e84-a610-61b5fc266c0b",
   "metadata": {},
   "source": [
    "Activity = number of pixels placed<br>\n",
    "\n",
    "The graph exposes a cyclical pattern where the lowest activity registers at hour 07 (night in US and early morning in EU) and highest at hour 20/21 (afternoon in US and evening in EU).<br>\n",
    "\n",
    "Overall activity increases the longer the experiment runs, thanks to articles, posts and videos being produced about the experiment.<br>\n",
    "\n",
    "The increase in activity is also due to the board expansions, giving users more opportunity to create their pixel art.\n",
    "- timestamp of first expansion  : 2022-04-02 16:24:56.239 UTC\n",
    "    - activity was already increasing at this time, purely because of time of day, still there is an additional increase of activity to fill the newly added board space.\n",
    "- timestamp of second expansion : 2022-04-03 19:03:53.356 UTC\n",
    "    - again there is a spike in activity, this time of almost 1 million additional pixels placed\n",
    "\n",
    "![activityPerHour.png](attachment:a7b21d4d-8799-43be-bbee-5788a6abe384.png)"
   ]
  },
  {
   "cell_type": "markdown",
   "id": "3419c012-f8be-4b79-abea-883c45874a80",
   "metadata": {},
   "source": [
    "### User activity"
   ]
  },
  {
   "cell_type": "code",
   "execution_count": 7,
   "id": "23f4ec6b-0d25-4328-b018-88b7636df55d",
   "metadata": {
    "execution": {
     "iopub.execute_input": "2022-11-04T10:06:06.588581Z",
     "iopub.status.busy": "2022-11-04T10:06:06.588351Z",
     "iopub.status.idle": "2022-11-04T10:12:43.429565Z",
     "shell.execute_reply": "2022-11-04T10:12:43.428920Z",
     "shell.execute_reply.started": "2022-11-04T10:06:06.588558Z"
    },
    "tags": []
   },
   "outputs": [
    {
     "data": {
      "application/vnd.jupyter.widget-view+json": {
       "model_id": "127225462dae4ab8a7a30b0fe26b4e42",
       "version_major": 2,
       "version_minor": 0
      },
      "text/plain": [
       "VBox()"
      ]
     },
     "metadata": {},
     "output_type": "display_data"
    },
    {
     "data": {
      "application/vnd.jupyter.widget-view+json": {
       "model_id": "",
       "version_major": 2,
       "version_minor": 0
      },
      "text/plain": [
       "FloatProgress(value=0.0, bar_style='info', description='Progress:', layout=Layout(height='25px', width='50%'),…"
      ]
     },
     "metadata": {},
     "output_type": "display_data"
    },
    {
     "name": "stdout",
     "output_type": "stream",
     "text": [
      "p: org.apache.spark.HashPartitioner = org.apache.spark.HashPartitioner@24\n",
      "userActivityRdd: org.apache.spark.rdd.RDD[(String, Int)] = ShuffledRDD[6] at partitionBy at <console>:41\n",
      "nUsers: Long = 10381144\n",
      "nPixels: Int = 160353085\n",
      "res9: String = Number of pixels placed per user: 15\n",
      "res12: Array[Int] = Array(795, 781, 777, 767, 767, 766, 765, 758, 730, 713)\n"
     ]
    }
   ],
   "source": [
    "val p = new HashPartitioner(36) // 36 ~= 2.4GiB / 64MiB\n",
    "\n",
    "// count timestamps per user\n",
    "val userActivityRdd = rdd.map({case(_, user, _, _) => (user, 1)}).  // shuffle write 11.7GiB\n",
    "    reduceByKey(_+_, 186).\n",
    "    partitionBy(p).\n",
    "    cache()\n",
    "\n",
    "// number of unique users\n",
    "val nUsers = userActivityRdd.count()\n",
    "\n",
    "//val nPixels = 160353085\n",
    "\"Number of pixels placed per user: \" + (nPixels/nUsers)\n",
    "\n",
    "// most active users\n",
    "userActivityRdd.sortBy(_._2, false).values.take(10)"
   ]
  },
  {
   "cell_type": "markdown",
   "id": "4600c5dc-c1de-43dd-8061-bf8d28a4d71c",
   "metadata": {},
   "source": [
    "## Detecting use of scripts\n",
    "\n",
    "People quickly wrote scripts that would take a coordinate and an image: the coordinate would be used to correctly place the input image (desired outcome) within the actual board, thus allowing to detect \"wrong\" pixels. The script would place a pixel every 5 minutes (the placement cooldown) to eventually achieve the desired image.<br>\n",
    "\n",
    "To identify a bot it is sufficient to count the streak of placements at 5 minute intervals; a high enough perfect streak is unlikely to have been made by a human. It is also necessary to allow a tolerance when detecting 5 minute intervals to account for network traffic and latency.<br> \n",
    "\n",
    "In the following code *botPixels* refers to pixels placed by scripts."
   ]
  },
  {
   "cell_type": "code",
   "execution_count": 25,
   "id": "0ca15d40-ca27-4558-845b-9be9194c50b2",
   "metadata": {
    "execution": {
     "iopub.execute_input": "2022-11-04T11:18:42.191672Z",
     "iopub.status.busy": "2022-11-04T11:18:42.191470Z",
     "iopub.status.idle": "2022-11-04T11:18:42.977154Z",
     "shell.execute_reply": "2022-11-04T11:18:42.976419Z",
     "shell.execute_reply.started": "2022-11-04T11:18:42.191646Z"
    },
    "tags": []
   },
   "outputs": [
    {
     "data": {
      "application/vnd.jupyter.widget-view+json": {
       "model_id": "2fa8dbf487834060a490d3c8eeb7841b",
       "version_major": 2,
       "version_minor": 0
      },
      "text/plain": [
       "VBox()"
      ]
     },
     "metadata": {},
     "output_type": "display_data"
    },
    {
     "data": {
      "application/vnd.jupyter.widget-view+json": {
       "model_id": "",
       "version_major": 2,
       "version_minor": 0
      },
      "text/plain": [
       "FloatProgress(value=0.0, bar_style='info', description='Progress:', layout=Layout(height='25px', width='50%'),…"
      ]
     },
     "metadata": {},
     "output_type": "display_data"
    },
    {
     "name": "stdout",
     "output_type": "stream",
     "text": [
      "toMillis: (timestamp: String)Long\n",
      "consecTreshold: Int = 12\n",
      "tolerance: Long = 65000\n",
      "checkBot: (prevTime: Long, times: List[Long], counter: Int, totCount: Int)Int\n"
     ]
    }
   ],
   "source": [
    "// transforms a timestamp string into milliseconds since Unix Epoch\n",
    "def toMillis(timestamp:String): Long = {\n",
    "    val f = new DateTimeFormatterBuilder().\n",
    "    appendPattern(\"yyyy-MM-dd HH:mm:ss\").\n",
    "    appendFraction(ChronoField.MICRO_OF_SECOND, 0, 3, true).\n",
    "    appendPattern(\" zzz\").\n",
    "    toFormatter()\n",
    "    val dateTime = LocalDateTime.parse(timestamp, f)\n",
    "    dateTime.toInstant(ZoneOffset.UTC).toEpochMilli()\n",
    "}\n",
    "\n",
    "// treshold for how many consecutive placements are presumed to be made by bot\n",
    "// i.e. 12 = 1h of consecutive placement, I presume a human wouldn't do that\n",
    "val consecTreshold = 12\n",
    "\n",
    "// milliseconds of tolerance for the 5 minute cooldown, \n",
    "// to account for script settings and network latency and traffic\n",
    "val tolerance = 65000L // 65 seconds\n",
    "// (found a script that placed every 5 and a half minutes, others had a 6 minute cooldown)\n",
    "\n",
    "// checks for amount of consecutive placements exactly 5 min apart\n",
    "// the input list of timestamps needs to be chronologically ordered\n",
    "def checkBot(prevTime:Long, times:List[Long], counter:Int, totCount:Int): Int = {\n",
    "    if(times.isEmpty) {\n",
    "        if ( counter >= consecTreshold ) { totCount + counter }\n",
    "        else totCount\n",
    "    } else {\n",
    "        if((times.head - prevTime) <= (300000+tolerance)) { // 300000ms = 5min\n",
    "            checkBot(times.head, times.tail, counter+1, totCount)\n",
    "        } else {\n",
    "            if (counter >= consecTreshold ) { // add up consecutive bot placements\n",
    "                checkBot(times.head, times.tail, 0, totCount + counter)\n",
    "            } else {\n",
    "                checkBot(times.head, times.tail, 0, totCount)\n",
    "            }\n",
    "        }\n",
    "    }\n",
    "}"
   ]
  },
  {
   "cell_type": "markdown",
   "id": "e351aeff-6b04-48bf-9e59-13a6c53ade1e",
   "metadata": {},
   "source": [
    "### Optimizing bot detection\n",
    "\n",
    "The following code has been optimized as follows:\n",
    "- first it maps only the relevant columns of the RDD, *userHash* and *timestamp*, to reduce the amount of data to process\n",
    "    - like all other operations that traverse the whole RDD, this operation is costly\n",
    "    - while traversing the RDD it converts timestamps from their String format to milliseconds: the convertion from String to Long saves quite a bit of space, thus it's best to do it as soon as possible\n",
    "- `groupByKey` is used to associate each *userHash* with an `Iterable[Long]` of all the user's pixel timestamps\n",
    "    - since this operation involves shuffling data I took the opportunity to specify a partitioning into 222 partitions\n",
    "        - the input size of 160 million (userHash, time) is 13.9GiB\n",
    "        - 13.9GiB / 64MiB = 217.18 => 222 is a multiple of 6 (num of cores)\n",
    "    - there is a 3s skewness, however it is noticeably faster than leaving default, smaller partitioning (~10s saved)\n",
    "- for each user, their timestamps get sorted chronologically and fed to the `checkBot` function defined in the previous section in order to get the total number of pixels probably placed by a script<br>\n",
    "\n",
    "This results in the following RDD : `RDD[(userHash, botPixels)]`"
   ]
  },
  {
   "cell_type": "code",
   "execution_count": 9,
   "id": "32a0c6ba-3be2-4a3a-9ce3-7579d7f8329d",
   "metadata": {
    "execution": {
     "iopub.execute_input": "2022-11-04T10:12:44.700857Z",
     "iopub.status.busy": "2022-11-04T10:12:44.700690Z",
     "iopub.status.idle": "2022-11-04T10:12:45.466527Z",
     "shell.execute_reply": "2022-11-04T10:12:45.465953Z",
     "shell.execute_reply.started": "2022-11-04T10:12:44.700836Z"
    },
    "tags": []
   },
   "outputs": [
    {
     "data": {
      "application/vnd.jupyter.widget-view+json": {
       "model_id": "44deb1e0c3344f5d8d2e01de3f9b886a",
       "version_major": 2,
       "version_minor": 0
      },
      "text/plain": [
       "VBox()"
      ]
     },
     "metadata": {},
     "output_type": "display_data"
    },
    {
     "data": {
      "application/vnd.jupyter.widget-view+json": {
       "model_id": "",
       "version_major": 2,
       "version_minor": 0
      },
      "text/plain": [
       "FloatProgress(value=0.0, bar_style='info', description='Progress:', layout=Layout(height='25px', width='50%'),…"
      ]
     },
     "metadata": {},
     "output_type": "display_data"
    },
    {
     "name": "stdout",
     "output_type": "stream",
     "text": [
      "botActivityRdd: org.apache.spark.rdd.RDD[(String, Int)] = ShuffledRDD[16] at partitionBy at <console>:46\n"
     ]
    }
   ],
   "source": [
    "val botActivityRdd = rdd.\n",
    "    map({case(timestamp, user, _, _) => (user, toMillis(timestamp))}). // after map it's 13.9GiB\n",
    "    groupByKey(222). // partitions of 64MiB each, 37 partitions per core\n",
    "    mapValues(x => {\n",
    "      val t = x.toList.sorted\n",
    "      checkBot(t.head, t.tail, 1, 0)\n",
    "    }). // RDD[(userHash, Int)]\n",
    "    partitionBy(p).\n",
    "    cache()"
   ]
  },
  {
   "cell_type": "code",
   "execution_count": 17,
   "id": "46be5bcf-6100-4dad-8499-fdc40dc0d419",
   "metadata": {
    "execution": {
     "iopub.execute_input": "2022-11-04T10:40:13.035088Z",
     "iopub.status.busy": "2022-11-04T10:40:13.034858Z",
     "iopub.status.idle": "2022-11-04T10:40:15.312238Z",
     "shell.execute_reply": "2022-11-04T10:40:15.311669Z",
     "shell.execute_reply.started": "2022-11-04T10:40:13.035064Z"
    },
    "tags": []
   },
   "outputs": [
    {
     "data": {
      "application/vnd.jupyter.widget-view+json": {
       "model_id": "895fc47a2fa543308c22db34dbfba9e1",
       "version_major": 2,
       "version_minor": 0
      },
      "text/plain": [
       "VBox()"
      ]
     },
     "metadata": {},
     "output_type": "display_data"
    },
    {
     "data": {
      "application/vnd.jupyter.widget-view+json": {
       "model_id": "",
       "version_major": 2,
       "version_minor": 0
      },
      "text/plain": [
       "FloatProgress(value=0.0, bar_style='info', description='Progress:', layout=Layout(height='25px', width='50%'),…"
      ]
     },
     "metadata": {},
     "output_type": "display_data"
    },
    {
     "name": "stdout",
     "output_type": "stream",
     "text": [
      "res31: String = Number of users who used scripts: 280528\n",
      "nBotPixels: Int = 7506520\n",
      "res32: String = Percentage of pixels placed by bots: 4.6812444%\n"
     ]
    }
   ],
   "source": [
    "\"Number of users who used scripts: \" + botActivityRdd.filter(x => (x._2 > 1)).count\n",
    "val nBotPixels = botActivityRdd.filter(x => (x._2 > 1)).values.reduce(_+_)\n",
    "\"Percentage of pixels placed by bots: \" + ((nBotPixels.toFloat/nPixels)*100) + \"%\""
   ]
  },
  {
   "cell_type": "markdown",
   "id": "f4fa8ce3-0f4c-4ea1-996a-3c7ea2ecf451",
   "metadata": {},
   "source": [
    "### Exploring pixels placed by bots vs. overall placements\n",
    "\n",
    "The following code seeks to explore the impact of script usage on the r/place experiment by comparing pixels placed by scripts vs total pixels placed. <br>\n",
    "\n",
    "I expect that the more pixels a user placed, the more probable it is that a script was used.<br>\n",
    "\n",
    "### Optimizations\n",
    "\n",
    "- use of cached `userActivityRdd` previously calculated to get the top 10 users by activity (pixels placed)\n",
    "- since both `userActivityRdd` and `botActivityRdd` benefit from being resized to a smaller number of partitions and both are of type RDD[(String, Int)] their partitioning was done using the same `HashPartitioner` so the join operation between the two RDDs is a *narrow dependency* => no further shuffling"
   ]
  },
  {
   "cell_type": "markdown",
   "id": "57ccdbf0-d378-4d35-b6b7-e9f7e84bfd14",
   "metadata": {},
   "source": [
    "## Analysis of user activity\n",
    "\n",
    "I was interested in classifying users by the amout of pixels they placed, as I expect this information to reflect the different types of users who participated in the experiment: \n",
    "- casual visitor -> placed very few pixels at random times\n",
    "- user took part in community projects\n",
    "    - did not use scripts -> placed less than 100 pixels ( ~8hrs of consecutive placement )\n",
    "    - used scripts for small amounts of time\n",
    "    - used scripts for large amounts of time ( top user placed 795 pixels => ~66hrs of consecutive placement )\n",
    "    \n",
    "Thus in the code snippet below the RDD that resulted from the join operation contains all user hashes and, for each one, the number of pixels placed and the number of pixels presumed to have been placed with a script. <br> \n",
    "The users then get labeled based on the number of pixels they placed and users within the same range are merged together, thus getting the total number of pixels, total number of bot pixels and number of distinct users for each range.<br>"
   ]
  },
  {
   "cell_type": "code",
   "execution_count": 11,
   "id": "8a974ef6-bbc7-43f5-9bfb-39d08d608a05",
   "metadata": {
    "execution": {
     "iopub.execute_input": "2022-11-04T10:19:40.211424Z",
     "iopub.status.busy": "2022-11-04T10:19:40.211247Z",
     "iopub.status.idle": "2022-11-04T10:19:57.547728Z",
     "shell.execute_reply": "2022-11-04T10:19:57.547015Z",
     "shell.execute_reply.started": "2022-11-04T10:19:40.211402Z"
    },
    "tags": []
   },
   "outputs": [
    {
     "data": {
      "application/vnd.jupyter.widget-view+json": {
       "model_id": "66ef9470e28b49089035dad7a9ca4541",
       "version_major": 2,
       "version_minor": 0
      },
      "text/plain": [
       "VBox()"
      ]
     },
     "metadata": {},
     "output_type": "display_data"
    },
    {
     "data": {
      "application/vnd.jupyter.widget-view+json": {
       "model_id": "",
       "version_major": 2,
       "version_minor": 0
      },
      "text/plain": [
       "FloatProgress(value=0.0, bar_style='info', description='Progress:', layout=Layout(height='25px', width='50%'),…"
      ]
     },
     "metadata": {},
     "output_type": "display_data"
    }
   ],
   "source": [
    "userActivityRdd.\n",
    "    join(botActivityRdd).\n",
    "    map({\n",
    "        case(usr, (nPixels, botPixels)) if nPixels > 700 => (\">700\", (nPixels, botPixels, 1))\n",
    "        case(usr, (nPixels, botPixels)) if 601 to 700 contains nPixels => (\"601-700\", (nPixels, botPixels, 1))\n",
    "        case(usr, (nPixels, botPixels)) if 501 to 600 contains nPixels => (\"501-600\", (nPixels, botPixels, 1))\n",
    "        case(usr, (nPixels, botPixels)) if 401 to 500 contains nPixels => (\"401-500\", (nPixels, botPixels, 1))\n",
    "        case(usr, (nPixels, botPixels)) if 301 to 400 contains nPixels => (\"301-400\", (nPixels, botPixels, 1))\n",
    "        case(usr, (nPixels, botPixels)) if 201 to 300 contains nPixels => (\"201-300\", (nPixels, botPixels, 1))\n",
    "        case(usr, (nPixels, botPixels)) if 101 to 200 contains nPixels => (\"101-200\", (nPixels, botPixels, 1))\n",
    "        case(usr, (nPixels, botPixels)) if 1 to 100 contains nPixels => (\"001-100\", (nPixels, botPixels, 1))\n",
    "    }).\n",
    "    reduceByKey((x1,x2)=>(x1._1+x2._1, x1._2+x2._2, x1._3+x2._3)).\n",
    "    sortBy(_._1, true, 1).\n",
    "    flatMap({case(range, (nPixels, botPixels, nUsr)) => Array((range, nPixels, botPixels, nUsr))}).\n",
    "    toDF(\"userActivity\", \"nPixels\", \"botPixels\", \"numUsers\").\n",
    "    write.option(\"header\", true).format(\"csv\").mode(SaveMode.Overwrite).\n",
    "    save(\"s3a://\"+bucketname+\"/spark/rplace/userAndBotActivity100s\")"
   ]
  },
  {
   "attachments": {
    "78fc9e47-2449-45dd-92de-055a4895d197.png": {
     "image/png": "[encoded data removed]"
    },
    "8361b8f7-ff74-4dac-a39f-a40e7404fcb7.png": {
     "image/png": "[encoded data removed]"
    },
    "9eaa9a30-7f4d-4afc-90d1-258523b8c3c5.png": {
     "image/png": "[encoded data removed]"
    }
   },
   "cell_type": "markdown",
   "id": "7803cd46-e4fc-4af4-84d2-13b198c982a3",
   "metadata": {},
   "source": [
    "### Impact of high-activity users\n",
    "\n",
    "The classic question of: is it better to have few big contributions or many small contributions?<br> As we can see here, the vast majority of pixels were placed by casual users.\n",
    "\n",
    "![nPixels.png](attachment:78fc9e47-2449-45dd-92de-055a4895d197.png)\n",
    "![nUsers+nPixels.png](attachment:9eaa9a30-7f4d-4afc-90d1-258523b8c3c5.png)\n",
    "\n",
    "### Analysis of script usage\n",
    "\n",
    "As previously calculated, the overall pecentage of pixels placed with scripts is 4.68%<br>\n",
    "As expected, users that placed high numbers of pixels were more likely to have used scripts:\n",
    "![botPercentage.png](attachment:8361b8f7-ff74-4dac-a39f-a40e7404fcb7.png) <br>\n",
    "\n",
    "The percentages of pixels placed by scripts are not quite as high as one would expect for the higher ranges of activity, however this can be explained by the fact that accounts who did not verify their email had a 20 minute cooldown instead of a 5 minute one; furthermore, some users complained that they had variable cooldown times, from 10 minutes even up to 1 hour, likely because of programming errors of the r/place board. <br>\n",
    "The >700 range having a 77% of botPixels indicates that they managed to place so many pixels only thanks to the 5 minute cooldown (verified accounts).<br>\n",
    "\n",
    "Personally I thought the percentages of bot use would be overall higher because of the size and complexity of many pixel art pieces on the board, but thinking back on it installing and running a script is not easy or intuitive for most users; most pixel art was made manually (with help of an overlay) by communities who coordinated via discord or livestreams."
   ]
  },
  {
   "cell_type": "markdown",
   "id": "6fd61961-78a5-4992-8c75-3d8a0aa739f7",
   "metadata": {},
   "source": [
    "### Zoom-in on 1-100 range\n",
    "\n",
    "As seen above, the vast majority of users placed less than 100 pixels; below the exploration focusing on this portion of users, by grouping them in ranges of 10 pixels placed."
   ]
  },
  {
   "cell_type": "code",
   "execution_count": 16,
   "id": "917c9298-cc7d-48f1-82ef-9700ba440fc0",
   "metadata": {
    "execution": {
     "iopub.execute_input": "2022-11-04T10:36:28.686514Z",
     "iopub.status.busy": "2022-11-04T10:36:28.686290Z",
     "iopub.status.idle": "2022-11-04T10:36:40.003145Z",
     "shell.execute_reply": "2022-11-04T10:36:40.002416Z",
     "shell.execute_reply.started": "2022-11-04T10:36:28.686491Z"
    },
    "tags": []
   },
   "outputs": [
    {
     "data": {
      "application/vnd.jupyter.widget-view+json": {
       "model_id": "6bedfaf89e2f42adb9f49f702be834cd",
       "version_major": 2,
       "version_minor": 0
      },
      "text/plain": [
       "VBox()"
      ]
     },
     "metadata": {},
     "output_type": "display_data"
    },
    {
     "data": {
      "application/vnd.jupyter.widget-view+json": {
       "model_id": "",
       "version_major": 2,
       "version_minor": 0
      },
      "text/plain": [
       "FloatProgress(value=0.0, bar_style='info', description='Progress:', layout=Layout(height='25px', width='50%'),…"
      ]
     },
     "metadata": {},
     "output_type": "display_data"
    }
   ],
   "source": [
    "userActivityRdd.\n",
    "    join(botActivityRdd).\n",
    "    map({\n",
    "        case(usr, (nPixels, botPixels)) if nPixels > 100 => (\">100\", (nPixels, botPixels, 1))\n",
    "        case(usr, (nPixels, botPixels)) if 91 to 100 contains nPixels => (\"91-100\", (nPixels, botPixels, 1))\n",
    "        case(usr, (nPixels, botPixels)) if 81 to 90 contains nPixels => (\"81-90\", (nPixels, botPixels, 1))\n",
    "        case(usr, (nPixels, botPixels)) if 71 to 80 contains nPixels => (\"71-80\", (nPixels, botPixels, 1))\n",
    "        case(usr, (nPixels, botPixels)) if 61 to 70 contains nPixels => (\"61-70\", (nPixels, botPixels, 1))\n",
    "        case(usr, (nPixels, botPixels)) if 51 to 60 contains nPixels => (\"51-60\", (nPixels, botPixels, 1))\n",
    "        case(usr, (nPixels, botPixels)) if 41 to 50 contains nPixels => (\"41-50\", (nPixels, botPixels, 1))\n",
    "        case(usr, (nPixels, botPixels)) if 31 to 40 contains nPixels => (\"31-40\", (nPixels, botPixels, 1))\n",
    "        case(usr, (nPixels, botPixels)) if 21 to 30 contains nPixels => (\"21-30\", (nPixels, botPixels, 1))\n",
    "        case(usr, (nPixels, botPixels)) if 11 to 20 contains nPixels => (\"11-20\", (nPixels, botPixels, 1))\n",
    "        case(usr, (nPixels, botPixels)) if 1 to 10 contains nPixels => (\"01-10\", (nPixels, botPixels, 1))\n",
    "    }).\n",
    "    reduceByKey((x1,x2)=>(x1._1+x2._1, x1._2+x2._2, x1._3+x2._3)).\n",
    "    sortBy(_._1, true, 1).\n",
    "    flatMap({case(range, (nPixels, botPixels, nUsr)) => Array((range, nPixels, botPixels, nUsr))}).\n",
    "    toDF(\"userActivity\", \"nPixels\", \"botPixels\", \"numUsers\").\n",
    "    write.option(\"header\", true).format(\"csv\").mode(SaveMode.Overwrite).\n",
    "    save(\"s3a://\"+bucketname+\"/spark/rplace/userAndBotActivity10s\")"
   ]
  },
  {
   "attachments": {
    "489cef45-2207-4680-9dbe-b591b5c3e8e1.png": {
     "image/png": "[encoded data removed]"
    },
    "bfeff226-6b23-4af8-b136-447ccf8159e5.png": {
     "image/png": "[encoded data removed]"
    }
   },
   "cell_type": "markdown",
   "id": "afea901c-5b26-456b-a7fb-fba319f212a3",
   "metadata": {},
   "source": [
    "![nUsers100.png](attachment:bfeff226-6b23-4af8-b136-447ccf8159e5.png)<br>\n",
    "Almost 7 million users placed less than 10 pixels (total distinct users: 10 million)<br>\n",
    "\n",
    "![nPixelsLessThan100.png](attachment:489cef45-2207-4680-9dbe-b591b5c3e8e1.png)"
   ]
  },
  {
   "cell_type": "code",
   "execution_count": 47,
   "id": "7ceb9346-394f-4a25-b1cb-4920da492837",
   "metadata": {
    "execution": {
     "iopub.execute_input": "2022-10-29T10:56:41.688760Z",
     "iopub.status.busy": "2022-10-29T10:56:41.688490Z",
     "iopub.status.idle": "2022-10-29T10:56:42.466090Z",
     "shell.execute_reply": "2022-10-29T10:56:42.465446Z",
     "shell.execute_reply.started": "2022-10-29T10:56:41.688697Z"
    },
    "tags": []
   },
   "outputs": [
    {
     "data": {
      "application/vnd.jupyter.widget-view+json": {
       "model_id": "698b365300384f039d03594c808367f4",
       "version_major": 2,
       "version_minor": 0
      },
      "text/plain": [
       "VBox()"
      ]
     },
     "metadata": {},
     "output_type": "display_data"
    },
    {
     "data": {
      "application/vnd.jupyter.widget-view+json": {
       "model_id": "",
       "version_major": 2,
       "version_minor": 0
      },
      "text/plain": [
       "FloatProgress(value=0.0, bar_style='info', description='Progress:', layout=Layout(height='25px', width='50%'),…"
      ]
     },
     "metadata": {},
     "output_type": "display_data"
    }
   ],
   "source": [
    "sc.getPersistentRDDs.foreach(_._2.unpersist())"
   ]
  }
 ],
 "metadata": {
  "kernelspec": {
   "display_name": "Spark",
   "language": "scala",
   "name": "sparkkernel"
  },
  "language_info": {
   "codemirror_mode": "text/x-scala",
   "file_extension": ".sc",
   "mimetype": "text/x-scala",
   "name": "scala",
   "pygments_lexer": "scala"
  }
 },
 "nbformat": 4,
 "nbformat_minor": 5
}
